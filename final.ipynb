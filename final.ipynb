{
 "cells": [
  {
   "cell_type": "code",
   "execution_count": 1,
   "metadata": {},
   "outputs": [],
   "source": [
    "import time\n",
    "import urllib\n",
    "import os\n",
    "import selenium\n",
    "from selenium import webdriver\n",
    "from PIL import Image\n",
    "import requests\n",
    "import threading\n",
    "import shutil"
   ]
  },
  {
   "cell_type": "code",
   "execution_count": 4,
   "metadata": {},
   "outputs": [],
   "source": [
    "def scraper(searchterm, foldername):\n",
    "    \n",
    "    driver = webdriver.Chrome(\"./chromedriver_win32/chromedriver.exe\")\n",
    "    driver.get(\"https://www.google.co.in/search?q=\" + searchterm.replace(' ', '%20') + \"&source=lnms&tbm=isch\")\n",
    "\n",
    "    for _ in range(500):\n",
    "        driver.execute_script(\"window.scrollBy(0,10000)\")\n",
    "        if _%100 == 0:\n",
    "            try:\n",
    "                if driver.find_element_by_xpath(\"//input[@value='Show more results']\"):\n",
    "                    driver.find_element_by_xpath(\"//input[@value='Show more results']\").click()\n",
    "                    time.sleep(2)\n",
    "            except:\n",
    "                pass\n",
    "\n",
    "    time.sleep(3)\n",
    "\n",
    "\n",
    "    driver.execute_script(\"console.log(urls=Array.from(document.querySelectorAll('.rg_i')))\")\n",
    "    urls = driver.execute_script(\"return[urls.map(el=> el.hasAttribute('data-src')?el.getAttribute('data-src'):el.getAttribute('data-iurl'))]\")\n",
    "    driver.close()\n",
    "\n",
    "    if not os.path.exists(foldername):\n",
    "        os.mkdir(foldername)\n",
    "\n",
    "    i = 1\n",
    "    for url in urls[0]:\n",
    "        if url and i <= maximum:\n",
    "            img = Image.open(requests.get(str(url), stream = True).raw)\n",
    "            try:\n",
    "                img.save(foldername + \"/\" + str(i) + \".jpg\")\n",
    "                i+=1\n",
    "            except:\n",
    "                pass\n",
    "    \n",
    "    if i - 1 >= minimum:\n",
    "        print(f\"Found {i - 1} images for class {foldername}...\")\n",
    "    else:\n",
    "        print(f\"Found only {i - 1} images for class {foldername}, discarding class...\")\n",
    "        shutil.rmtree(foldername)"
   ]
  },
  {
   "cell_type": "code",
   "execution_count": 8,
   "metadata": {},
   "outputs": [
    {
     "name": "stdout",
     "output_type": "stream",
     "text": [
      "Enter number of classes: 1\n",
      "Enter maximum number of images for each class: 200\n",
      "Enter minimum number of images for each class: 200\n",
      "Enter class name: apple\n",
      "Enter Google Search term: apple fruit red\n",
      "Found 200 images for class apple...\n"
     ]
    }
   ],
   "source": [
    "n_classes = int(input(\"Enter number of classes: \"))\n",
    "maximum = int(input(\"Enter maximum number of images for each class: \"))\n",
    "minimum = int(input(\"Enter minimum number of images for each class: \"))\n",
    "\n",
    "threads = []\n",
    "\n",
    "for _ in range(n_classes):\n",
    "    f = input(\"Enter class name: \")\n",
    "    s = input(\"Enter Google Search term: \")\n",
    "    thread = threading.Thread(target = scraper, args = (s, f))\n",
    "    threads.append(thread)\n",
    "    \n",
    "for thread in threads:\n",
    "    thread.start()\n",
    "    \n",
    "for thread in threads:\n",
    "    thread.join()"
   ]
  },
  {
   "cell_type": "code",
   "execution_count": null,
   "metadata": {},
   "outputs": [],
   "source": []
  }
 ],
 "metadata": {
  "kernelspec": {
   "display_name": "Python 3",
   "language": "python",
   "name": "python3"
  },
  "language_info": {
   "codemirror_mode": {
    "name": "ipython",
    "version": 3
   },
   "file_extension": ".py",
   "mimetype": "text/x-python",
   "name": "python",
   "nbconvert_exporter": "python",
   "pygments_lexer": "ipython3",
   "version": "3.7.4"
  }
 },
 "nbformat": 4,
 "nbformat_minor": 4
}
