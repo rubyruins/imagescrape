{
 "cells": [
  {
   "cell_type": "code",
   "execution_count": 2,
   "metadata": {},
   "outputs": [
    {
     "name": "stdout",
     "output_type": "stream",
     "text": [
      "567\n"
     ]
    }
   ],
   "source": [
    "import time\n",
    "import urllib\n",
    "import os\n",
    "import selenium\n",
    "from selenium import webdriver\n",
    "from PIL import Image\n",
    "import requests\n",
    "\n",
    "driver = webdriver.Chrome(\"./chromedriver_win32/chromedriver.exe\")\n",
    "\n",
    "searchterm = \"apples fruit\"\n",
    "if not os.path.exists(searchterm):\n",
    "    os.mkdir(searchterm)\n",
    "\n",
    "driver.get(\"https://www.google.co.in/search?q=\" + searchterm.replace(' ', '%20') + \"&source=lnms&tbm=isch\")\n",
    "\n",
    "for _ in range(500):\n",
    "    driver.execute_script(\"window.scrollBy(0,10000)\")\n",
    "    if _%100 == 0:\n",
    "        try:\n",
    "            if driver.find_element_by_xpath(\"//input[@value='Show more results']\"):\n",
    "                driver.find_element_by_xpath(\"//input[@value='Show more results']\").click()\n",
    "                time.sleep(2)\n",
    "        except:\n",
    "            pass\n",
    "\n",
    "time.sleep(3)\n",
    "\n",
    "\n",
    "driver.execute_script(\"console.log(urls=Array.from(document.querySelectorAll('.rg_i')))\")\n",
    "urls = driver.execute_script(\"return[urls.map(el=> el.hasAttribute('data-src')?el.getAttribute('data-src'):el.getAttribute('data-iurl'))]\")\n",
    "\n",
    "i = 0\n",
    "for url in urls[0]:\n",
    "    if url:\n",
    "        img = Image.open(requests.get(str(url), stream = True).raw)\n",
    "        try:\n",
    "            img.save(searchterm + \"/\" + str(i) + \".jpg\")\n",
    "            i+=1\n",
    "        except:\n",
    "            pass\n",
    "print(i)\n",
    "\n",
    "driver.close()"
   ]
  },
  {
   "cell_type": "code",
   "execution_count": null,
   "metadata": {
    "scrolled": true
   },
   "outputs": [],
   "source": [
    "import time\n",
    "\n",
    "driver = webdriver.Chrome(r\"C:\\Users\\ACER\\Downloads\\scrapy\\chromedriver_win32\\chromedriver.exe\")\n",
    "\n",
    "searchterm = \"apples\"\n",
    "\n",
    "driver.get(\"https://www.google.co.in/search?q=\" + searchterm + \"&source=lnms&tbm=isch\")\n",
    "\n",
    "# for _ in range(1000):\n",
    "#     driver.execute_script(\"window.scrollBy(0,10000)\")\n",
    "    \n",
    "# time.sleep(5)\n",
    "\n",
    "images = driver.find_elements_by_tag_name('img')\n",
    "# print(len(images))\n",
    "\n",
    "if not os.path.exists(searchterm):\n",
    "    os.mkdir(searchterm)\n",
    "\n",
    "index = 0\n",
    "others = []\n",
    "\n",
    "for image in images:\n",
    "    print(image.get_attribute('innerHTML'))\n",
    "\n",
    "for image in images:\n",
    "    if int(image.get_attribute('width')) != 50:\n",
    "        try:\n",
    "            urllib.request.urlretrieve(image.get_attribute('src'), searchterm + \"/\" + str(index) + \".jpg\")\n",
    "            index += 1\n",
    "        except:\n",
    "            pass\n",
    "            \n",
    "\n",
    "driver.close()"
   ]
  }
 ],
 "metadata": {
  "kernelspec": {
   "display_name": "Python 3",
   "language": "python",
   "name": "python3"
  },
  "language_info": {
   "codemirror_mode": {
    "name": "ipython",
    "version": 3
   },
   "file_extension": ".py",
   "mimetype": "text/x-python",
   "name": "python",
   "nbconvert_exporter": "python",
   "pygments_lexer": "ipython3",
   "version": "3.7.4"
  }
 },
 "nbformat": 4,
 "nbformat_minor": 2
}
